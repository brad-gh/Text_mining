{
 "cells": [
  {
   "cell_type": "markdown",
   "metadata": {},
   "source": [
    "# Text Mining: Sentiment analysis\n",
    "\n",
    "Author: Badr GHAZLANE"
   ]
  },
  {
   "cell_type": "code",
   "execution_count": 1,
   "metadata": {},
   "outputs": [],
   "source": [
    "import glob \n",
    "import os.path as op \n",
    "import numpy as np\n",
    "import re\n",
    "from sklearn.base import BaseEstimator, ClassifierMixin"
   ]
  },
  {
   "cell_type": "markdown",
   "metadata": {},
   "source": [
    "## Data Importation\n",
    "I load the data stored in 2 files: Neg ( negative comments ) and Pos (positive comments. Texts contains both of Neg and Pos. "
   ]
  },
  {
   "cell_type": "code",
   "execution_count": 2,
   "metadata": {},
   "outputs": [
    {
     "name": "stdout",
     "output_type": "stream",
     "text": [
      "Loading dataset\n",
      "2000 documents\n"
     ]
    }
   ],
   "source": [
    "# Load data \n",
    "print(\"Loading dataset\")\n",
    "\n",
    "from glob import glob\n",
    "filenames_neg = sorted(glob(op.join('data/imdb1/neg/*.txt')))\n",
    "filenames_pos = sorted(glob(op.join('data/imdb1/pos/*.txt')))\n",
    "\n",
    "texts_neg = [open(f).read() for f in filenames_neg]\n",
    "texts_pos = [open(f).read() for f in filenames_pos]\n",
    "texts = texts_neg + texts_pos\n",
    "y = np.ones(len(texts), dtype=np.int)\n",
    "y[:len(texts_neg)] = 0.\n",
    "\n",
    "print(\"%d documents\" % len(texts))"
   ]
  },
  {
   "cell_type": "markdown",
   "metadata": {},
   "source": [
    "Then, the stop words (meaningless words) are imported."
   ]
  },
  {
   "cell_type": "code",
   "execution_count": 3,
   "metadata": {},
   "outputs": [],
   "source": [
    "files_stop = 'data/english.stop.txt'\n",
    "stop_words = open(files_stop).read().split()"
   ]
  },
  {
   "cell_type": "markdown",
   "metadata": {},
   "source": [
    "## Part1:  From Scratch classifier"
   ]
  },
  {
   "cell_type": "markdown",
   "metadata": {},
   "source": [
    "In this part, we will implement a Naive Bayes Classifier from scratch. The Naive Bayes theory was studied and gave us formulas that I used in the NB class. This document (**Daniel Jurafsky & James H. Martin** **STANFORD**) explains very well sentiment analysis using Naive Bayes:\n",
    "https://web.stanford.edu/~jurafsky/slp3/6.pdf\n",
    "\n",
    "*In this work, we will consider that new data won't be processed by the models. We will train the model on all the data we have, then we test the model on a part of the data. Hence, the test data does not contain new words. If we wanted to give to the model new sentences, we should have implemented a small chunk of code that remove words that are not in the training dictionnary*. "
   ]
  },
  {
   "cell_type": "markdown",
   "metadata": {},
   "source": [
    " ###  1 . Countword function: "
   ]
  },
  {
   "cell_type": "code",
   "execution_count": 4,
   "metadata": {},
   "outputs": [],
   "source": [
    "def count_words(texts, stopwords):\n",
    "    \"\"\"Vectorize text : return count of each word in the text snippets\n",
    "\n",
    "    Parameters\n",
    "    ----------\n",
    "    texts : list of str\n",
    "        The texts\n",
    "\n",
    "    Returns\n",
    "    -------\n",
    "    vocabulary : dict\n",
    "        A dictionary that points to an index in counts for each word.\n",
    "    counts : ndarray, shape (n_samples, n_features)\n",
    "        The counts of each word in each text.\n",
    "        n_samples == number of documents.\n",
    "        n_features == number of words in vocabulary.\n",
    "type()    \"\"\"\n",
    "    n_samples = len(texts)\n",
    "    words = set()\n",
    "    for text in texts:\n",
    "        text = re.sub(r'\\W', ' ', text)\n",
    "        text = text.strip()\n",
    "        \n",
    "        words.update(text.split())\n",
    "        \n",
    "    words.difference(stopwords)  # remove stop word  \n",
    "    n_features = len(words)\n",
    "    vocabulary = dict(zip(words, range(n_features)))\n",
    "    counts = np.zeros((n_samples , n_features ))\n",
    "    \n",
    "    for i in range(n_samples) :\n",
    "        \n",
    "        wordlist = re.sub(r'\\W', ' ', texts[i]).strip().split() # remove punctuation\n",
    "        for mot in wordlist:\n",
    "            if mot not in stopwords:\n",
    "                counts[i, vocabulary[mot]] += 1\n",
    "    return vocabulary, counts"
   ]
  },
  {
   "cell_type": "markdown",
   "metadata": {},
   "source": [
    "Let's notice that the countword function returns the vocabulary dictionnary and a 2d-array of (2000, 39696) shape. So rows contain the document and columns the words. **Each cell contains the occurence of the word_j in the document_i.**"
   ]
  },
  {
   "cell_type": "code",
   "execution_count": 5,
   "metadata": {},
   "outputs": [],
   "source": [
    "vocabularys, Xs = count_words(texts, stop_words)"
   ]
  },
  {
   "cell_type": "code",
   "execution_count": 6,
   "metadata": {},
   "outputs": [
    {
     "data": {
      "text/plain": [
       "(2000, 39696)"
      ]
     },
     "execution_count": 6,
     "metadata": {},
     "output_type": "execute_result"
    }
   ],
   "source": [
    "Xs.shape"
   ]
  },
  {
   "cell_type": "markdown",
   "metadata": {},
   "source": [
    "### 2 . This section describes how we determined whether a review was positive or negative."
   ]
  },
  {
   "cell_type": "markdown",
   "metadata": {},
   "source": [
    "\n",
    "\n",
    "The original html files do not have consistent formats -- a review may\n",
    "not have the author's rating with it, and when it does, the rating can\n",
    "appear at different places in the file in different forms.  We only\n",
    "recognize some of the more explicit ratings, which are extracted via a\n",
    "set of ad-hoc rules.  In essence, a file's classification is determined\n",
    "based on the first rating we were able to identify.\n",
    "\n",
    "\n",
    "- In order to obtain more accurate rating decisions, the maximum\n",
    "\trating must be specified explicitly, both for numerical ratings\n",
    "\tand star ratings.  (\"8/10\", \"four out of five\", and \"OUT OF\n",
    "\t****: ***\" are examples of rating indications we recognize.)\n",
    "\n",
    "- With a five-star system (or compatible number systems):\n",
    "\tthree-and-a-half stars and up are considered positive, \n",
    "\ttwo stars and below are considered negative.\n",
    "- With a four-star system (or compatible number system):\n",
    "\tthree stars and up are considered positive, \n",
    "\tone-and-a-half stars and below are considered negative.  \n",
    "- With a letter grade system:\n",
    "\tB or above is considered positive,\n",
    "\tC- or below is considered negative.\n",
    "\n",
    "We attempted to recognize half stars, but they are specified in an\n",
    "especially free way, which makes them difficult to recognize.  Hence,\n",
    "we may lose a half star very occasionally; but this only results in 2.5\n",
    "stars in five star system being categorized as negative, which is \n",
    "still reasonable."
   ]
  },
  {
   "cell_type": "markdown",
   "metadata": {},
   "source": [
    "### 3 . The NB class"
   ]
  },
  {
   "cell_type": "markdown",
   "metadata": {},
   "source": [
    "The small class NB helps to fit, predict and score easily. \n",
    "\n",
    "\n",
    "\n",
    "- **FIT**: It learns the word's distribution of each class (Neg or Pos) through word frequencies. Then we apply a Laplace 1 smoothing. So, the maximum likelihood estimate of the probability will never be equal to 0. In the code below, I will give the reference on the Stanford document. \n",
    "\n",
    "\n",
    "\n",
    "- **PREDICT** : For each new document, a new vector containing the occurence of each word of the dictionnary is created. And, we compute the maximum posterior probability given the document, and keep the highest. \n",
    "\n",
    "\n",
    "\n",
    "\n",
    "\n",
    "- **SCORE** :  The score is the mean of the right classified examples."
   ]
  },
  {
   "cell_type": "code",
   "execution_count": 7,
   "metadata": {},
   "outputs": [],
   "source": [
    "class NB(BaseEstimator, ClassifierMixin):\n",
    "    def __init__(self):\n",
    "        self.condproba = None\n",
    "        self.prior = None\n",
    "\n",
    "    def fit(self, X, y):\n",
    "        self.prior = np.zeros(len(set(y)))\n",
    "        self.condproba = np.zeros((X.shape[1],len(set(y))))\n",
    "        \n",
    "        for i in range(0,len(set(y))):\n",
    "            self.prior[i] = X[y == i].shape[0]/X.shape[0] # Equation (6.11) \n",
    "            self.condproba[:,i] = (np.sum(X[y==i], axis=0) + 1) / (np.sum(X[y==i]) + X[y==i].shape[1]) # Equation (6.14)\n",
    "        \n",
    "        return self\n",
    "\n",
    "    def predict(self, X):\n",
    "        return np.argmax(np.dot(X, (np.log(self.prior) + np.log(self.condproba)) ), axis=1) # Equation (6.10)\n",
    "\n",
    "    def score(self, X, y):\n",
    "        return np.mean(self.predict(X) == y)\n",
    "    "
   ]
  },
  {
   "cell_type": "code",
   "execution_count": 8,
   "metadata": {},
   "outputs": [
    {
     "name": "stdout",
     "output_type": "stream",
     "text": [
      "CPU times: user 9.46 s, sys: 219 ms, total: 9.68 s\n",
      "Wall time: 9.69 s\n"
     ]
    }
   ],
   "source": [
    "%%time\n",
    "# Count words in text\n",
    "vocabulary, X = count_words(texts, stop_words)"
   ]
  },
  {
   "cell_type": "markdown",
   "metadata": {},
   "source": [
    "Let's compute cross validation to test our class accuracy: "
   ]
  },
  {
   "cell_type": "code",
   "execution_count": 9,
   "metadata": {
    "scrolled": true
   },
   "outputs": [
    {
     "name": "stdout",
     "output_type": "stream",
     "text": [
      "Max score: 0.8325\n",
      "Min score: 0.7725\n",
      "Mean: 0.8055\n",
      "                     \n",
      "CPU times: user 4.96 s, sys: 4.84 s, total: 9.8 s\n",
      "Wall time: 10 s\n"
     ]
    }
   ],
   "source": [
    "%%time\n",
    "\n",
    "from sklearn.model_selection import cross_val_score\n",
    "nb = NB()\n",
    "scores = cross_val_score(nb, X, y, cv=5)\n",
    "print('Max score:', max(scores))\n",
    "print('Min score:', min(scores))\n",
    "print('Mean:', scores.mean())\n",
    "print('                     ')"
   ]
  },
  {
   "cell_type": "markdown",
   "metadata": {},
   "source": [
    "## Part2:  SKLEARN NB classifier"
   ]
  },
  {
   "cell_type": "markdown",
   "metadata": {},
   "source": [
    "I will compare the from scratch NB implementation with the sklearn one. \n",
    "To simplify the process, I will use a pipeline. "
   ]
  },
  {
   "cell_type": "markdown",
   "metadata": {},
   "source": [
    "### 1 . Comparison with SKLEARN"
   ]
  },
  {
   "cell_type": "code",
   "execution_count": 10,
   "metadata": {},
   "outputs": [],
   "source": [
    "from sklearn.naive_bayes import MultinomialNB\n",
    "from sklearn.feature_extraction.text import CountVectorizer\n",
    "from sklearn.pipeline import Pipeline"
   ]
  },
  {
   "cell_type": "code",
   "execution_count": 11,
   "metadata": {
    "scrolled": true
   },
   "outputs": [
    {
     "name": "stdout",
     "output_type": "stream",
     "text": [
      "The SKLEARN implementation of NB gives a score of 0.8130.\n",
      "Our impementation gives us a score of 0.8055\n"
     ]
    }
   ],
   "source": [
    "etapes = [('vectorizer',CountVectorizer(analyzer='word')), \n",
    "          ('Bayes', MultinomialNB())]\n",
    "pipe = Pipeline(etapes)\n",
    "pipe.fit(texts[::2], y[::2])\n",
    "ypred = pipe.predict(texts[1::2])\n",
    "print('The SKLEARN implementation of NB gives a score of %.4f.' % np.mean(y[1::2] == ypred))\n",
    "print('Our impementation gives us a score of %.4f' % scores.mean())\n",
    "\n"
   ]
  },
  {
   "cell_type": "markdown",
   "metadata": {},
   "source": [
    "### 2 . Let's try another algorithm"
   ]
  },
  {
   "cell_type": "markdown",
   "metadata": {},
   "source": [
    "- SVM algorithm"
   ]
  },
  {
   "cell_type": "code",
   "execution_count": 12,
   "metadata": {},
   "outputs": [],
   "source": [
    "from sklearn.svm import LinearSVC\n",
    "from sklearn.svm import SVC"
   ]
  },
  {
   "cell_type": "code",
   "execution_count": 13,
   "metadata": {},
   "outputs": [
    {
     "name": "stdout",
     "output_type": "stream",
     "text": [
      "The SKLEARN implementation of SVM gives a score of 0.8130.\n",
      "Our impementation gives us a score of 0.8055\n"
     ]
    }
   ],
   "source": [
    "etapes_SVM = [('vectorizer',CountVectorizer(analyzer='word')), \n",
    "          ('SVM', SVC(C= 30, kernel='rbf', gamma=0.0001))]\n",
    "pipe_SVM = Pipeline(etapes_SVM)\n",
    "pipe_SVM.fit(texts[::2], y[::2])\n",
    "ypred_SVM = pipe_SVM.predict(texts[1::2])\n",
    "print('The SKLEARN implementation of SVM gives a score of %.4f.' % np.mean(y[1::2] == ypred_SVM))\n",
    "print('Our impementation gives us a score of %.4f' % scores.mean())"
   ]
  },
  {
   "cell_type": "markdown",
   "metadata": {},
   "source": [
    "- Logistic Regression"
   ]
  },
  {
   "cell_type": "code",
   "execution_count": 14,
   "metadata": {},
   "outputs": [],
   "source": [
    "from sklearn.linear_model import LogisticRegression"
   ]
  },
  {
   "cell_type": "code",
   "execution_count": 15,
   "metadata": {},
   "outputs": [
    {
     "name": "stdout",
     "output_type": "stream",
     "text": [
      "The SKLEARN implementation of Logistic Regression gives a score of 0.8310.\n",
      "Our impementation gives us a score of 0.8055\n"
     ]
    }
   ],
   "source": [
    "etapes_logit = [('vectorizer',CountVectorizer(analyzer='word')), \n",
    "          ('Logistic regression', LogisticRegression(C=1, fit_intercept= True) )]\n",
    "pipe_logit = Pipeline(etapes_logit)\n",
    "pipe_logit.fit(texts[::2], y[::2])\n",
    "ypred_logit = pipe_logit.predict(texts[1::2])\n",
    "print('The SKLEARN implementation of Logistic Regression gives a score of %.4f.' % np.mean(y[1::2] == ypred_logit))\n",
    "print('Our impementation gives us a score of %.4f' % scores.mean())"
   ]
  },
  {
   "cell_type": "markdown",
   "metadata": {},
   "source": [
    "### 3 . Stemming: NLTK\n",
    "\n",
    "Stemmers remove morphological affixes from words, leaving only the word stem."
   ]
  },
  {
   "cell_type": "code",
   "execution_count": 16,
   "metadata": {},
   "outputs": [],
   "source": [
    "from nltk import SnowballStemmer\n",
    "from nltk.tokenize import word_tokenize"
   ]
  },
  {
   "cell_type": "code",
   "execution_count": 17,
   "metadata": {},
   "outputs": [],
   "source": [
    "stemmer = SnowballStemmer(\"english\")"
   ]
  },
  {
   "cell_type": "code",
   "execution_count": 18,
   "metadata": {},
   "outputs": [],
   "source": [
    "def stemmWords(doc):\n",
    "    return [stemmer.stem(word) for word in word_tokenize(doc)]\n",
    "\n",
    "stemmed_texts = [' '.join(stemmWords(text)) for text in texts ]"
   ]
  },
  {
   "cell_type": "markdown",
   "metadata": {},
   "source": [
    "Let's try the stemming transformation on our best algorithm: "
   ]
  },
  {
   "cell_type": "code",
   "execution_count": 19,
   "metadata": {},
   "outputs": [
    {
     "name": "stdout",
     "output_type": "stream",
     "text": [
      "The SKLEARN implementation of Logistic Regression with stemming gives a score of 0.8170.\n",
      "                                \n",
      "CPU times: user 1.36 s, sys: 19.6 ms, total: 1.38 s\n",
      "Wall time: 1.38 s\n"
     ]
    }
   ],
   "source": [
    "%%time\n",
    "\n",
    "pipe_logit.fit(stemmed_texts[::2], y[::2])\n",
    "ypred_logit = pipe_logit.predict(stemmed_texts[1::2])\n",
    "print('The SKLEARN implementation of Logistic Regression with stemming gives a score of %.4f.' % np.mean(y[1::2] == ypred_logit))\n",
    "print('                                ')"
   ]
  },
  {
   "cell_type": "markdown",
   "metadata": {},
   "source": [
    "### 4 . Grammatical analysis using POS\n",
    "\n",
    "- In corpus linguistics, part-of-speech tagging (POS tagging or POST), also called grammatical tagging or word-category disambiguation, is the process of marking up a word in a text (corpus) as corresponding to a particular part of speech, based on both its definition, as well as its context—i.e. relationship with adjacent and related words in a phrase, sentence, or paragraph. A simplified form of this is commonly taught to school-age children, in the identification of words as nouns, verbs, adjectives, adverbs, etc."
   ]
  },
  {
   "cell_type": "code",
   "execution_count": 20,
   "metadata": {},
   "outputs": [
    {
     "name": "stdout",
     "output_type": "stream",
     "text": [
      "[nltk_data] Downloading package averaged_perceptron_tagger to\n",
      "[nltk_data]     /Users/Ghazlane/nltk_data...\n",
      "[nltk_data]   Package averaged_perceptron_tagger is already up-to-\n",
      "[nltk_data]       date!\n",
      "[nltk_data] Downloading package punkt to /Users/Ghazlane/nltk_data...\n",
      "[nltk_data]   Package punkt is already up-to-date!\n",
      "[nltk_data] Downloading package tagsets to\n",
      "[nltk_data]     /Users/Ghazlane/nltk_data...\n",
      "[nltk_data]   Package tagsets is already up-to-date!\n"
     ]
    },
    {
     "data": {
      "text/plain": [
       "True"
      ]
     },
     "execution_count": 20,
     "metadata": {},
     "output_type": "execute_result"
    }
   ],
   "source": [
    "import nltk\n",
    "from nltk import pos_tag\n",
    "nltk.download('averaged_perceptron_tagger')\n",
    "nltk.download('punkt')\n",
    "nltk.download('tagsets')"
   ]
  },
  {
   "cell_type": "markdown",
   "metadata": {},
   "source": [
    "Using the NLTK documentation we kept the meaningful words as verb (VBZ), adjectives (JJ, JJR ...) etc. This allows to remove noise in our distribution. "
   ]
  },
  {
   "cell_type": "code",
   "execution_count": 21,
   "metadata": {},
   "outputs": [
    {
     "name": "stdout",
     "output_type": "stream",
     "text": [
      "$: dollar\n",
      "    $ -$ --$ A$ C$ HK$ M$ NZ$ S$ U.S.$ US$\n",
      "'': closing quotation mark\n",
      "    ' ''\n",
      "(: opening parenthesis\n",
      "    ( [ {\n",
      "): closing parenthesis\n",
      "    ) ] }\n",
      ",: comma\n",
      "    ,\n",
      "--: dash\n",
      "    --\n",
      ".: sentence terminator\n",
      "    . ! ?\n",
      ":: colon or ellipsis\n",
      "    : ; ...\n",
      "CC: conjunction, coordinating\n",
      "    & 'n and both but either et for less minus neither nor or plus so\n",
      "    therefore times v. versus vs. whether yet\n",
      "CD: numeral, cardinal\n",
      "    mid-1890 nine-thirty forty-two one-tenth ten million 0.5 one forty-\n",
      "    seven 1987 twenty '79 zero two 78-degrees eighty-four IX '60s .025\n",
      "    fifteen 271,124 dozen quintillion DM2,000 ...\n",
      "DT: determiner\n",
      "    all an another any both del each either every half la many much nary\n",
      "    neither no some such that the them these this those\n",
      "EX: existential there\n",
      "    there\n",
      "FW: foreign word\n",
      "    gemeinschaft hund ich jeux habeas Haementeria Herr K'ang-si vous\n",
      "    lutihaw alai je jour objets salutaris fille quibusdam pas trop Monte\n",
      "    terram fiche oui corporis ...\n",
      "IN: preposition or conjunction, subordinating\n",
      "    astride among uppon whether out inside pro despite on by throughout\n",
      "    below within for towards near behind atop around if like until below\n",
      "    next into if beside ...\n",
      "JJ: adjective or numeral, ordinal\n",
      "    third ill-mannered pre-war regrettable oiled calamitous first separable\n",
      "    ectoplasmic battery-powered participatory fourth still-to-be-named\n",
      "    multilingual multi-disciplinary ...\n",
      "JJR: adjective, comparative\n",
      "    bleaker braver breezier briefer brighter brisker broader bumper busier\n",
      "    calmer cheaper choosier cleaner clearer closer colder commoner costlier\n",
      "    cozier creamier crunchier cuter ...\n",
      "JJS: adjective, superlative\n",
      "    calmest cheapest choicest classiest cleanest clearest closest commonest\n",
      "    corniest costliest crassest creepiest crudest cutest darkest deadliest\n",
      "    dearest deepest densest dinkiest ...\n",
      "LS: list item marker\n",
      "    A A. B B. C C. D E F First G H I J K One SP-44001 SP-44002 SP-44005\n",
      "    SP-44007 Second Third Three Two * a b c d first five four one six three\n",
      "    two\n",
      "MD: modal auxiliary\n",
      "    can cannot could couldn't dare may might must need ought shall should\n",
      "    shouldn't will would\n",
      "NN: noun, common, singular or mass\n",
      "    common-carrier cabbage knuckle-duster Casino afghan shed thermostat\n",
      "    investment slide humour falloff slick wind hyena override subhumanity\n",
      "    machinist ...\n",
      "NNP: noun, proper, singular\n",
      "    Motown Venneboerger Czestochwa Ranzer Conchita Trumplane Christos\n",
      "    Oceanside Escobar Kreisler Sawyer Cougar Yvette Ervin ODI Darryl CTCA\n",
      "    Shannon A.K.C. Meltex Liverpool ...\n",
      "NNPS: noun, proper, plural\n",
      "    Americans Americas Amharas Amityvilles Amusements Anarcho-Syndicalists\n",
      "    Andalusians Andes Andruses Angels Animals Anthony Antilles Antiques\n",
      "    Apache Apaches Apocrypha ...\n",
      "NNS: noun, common, plural\n",
      "    undergraduates scotches bric-a-brac products bodyguards facets coasts\n",
      "    divestitures storehouses designs clubs fragrances averages\n",
      "    subjectivists apprehensions muses factory-jobs ...\n",
      "PDT: pre-determiner\n",
      "    all both half many quite such sure this\n",
      "POS: genitive marker\n",
      "    ' 's\n",
      "PRP: pronoun, personal\n",
      "    hers herself him himself hisself it itself me myself one oneself ours\n",
      "    ourselves ownself self she thee theirs them themselves they thou thy us\n",
      "PRP$: pronoun, possessive\n",
      "    her his mine my our ours their thy your\n",
      "RB: adverb\n",
      "    occasionally unabatingly maddeningly adventurously professedly\n",
      "    stirringly prominently technologically magisterially predominately\n",
      "    swiftly fiscally pitilessly ...\n",
      "RBR: adverb, comparative\n",
      "    further gloomier grander graver greater grimmer harder harsher\n",
      "    healthier heavier higher however larger later leaner lengthier less-\n",
      "    perfectly lesser lonelier longer louder lower more ...\n",
      "RBS: adverb, superlative\n",
      "    best biggest bluntest earliest farthest first furthest hardest\n",
      "    heartiest highest largest least less most nearest second tightest worst\n",
      "RP: particle\n",
      "    aboard about across along apart around aside at away back before behind\n",
      "    by crop down ever fast for forth from go high i.e. in into just later\n",
      "    low more off on open out over per pie raising start teeth that through\n",
      "    under unto up up-pp upon whole with you\n",
      "SYM: symbol\n",
      "    % & ' '' ''. ) ). * + ,. < = > @ A[fj] U.S U.S.S.R * ** ***\n",
      "TO: \"to\" as preposition or infinitive marker\n",
      "    to\n",
      "UH: interjection\n",
      "    Goodbye Goody Gosh Wow Jeepers Jee-sus Hubba Hey Kee-reist Oops amen\n",
      "    huh howdy uh dammit whammo shucks heck anyways whodunnit honey golly\n",
      "    man baby diddle hush sonuvabitch ...\n",
      "VB: verb, base form\n",
      "    ask assemble assess assign assume atone attention avoid bake balkanize\n",
      "    bank begin behold believe bend benefit bevel beware bless boil bomb\n",
      "    boost brace break bring broil brush build ...\n",
      "VBD: verb, past tense\n",
      "    dipped pleaded swiped regummed soaked tidied convened halted registered\n",
      "    cushioned exacted snubbed strode aimed adopted belied figgered\n",
      "    speculated wore appreciated contemplated ...\n",
      "VBG: verb, present participle or gerund\n",
      "    telegraphing stirring focusing angering judging stalling lactating\n",
      "    hankerin' alleging veering capping approaching traveling besieging\n",
      "    encrypting interrupting erasing wincing ...\n",
      "VBN: verb, past participle\n",
      "    multihulled dilapidated aerosolized chaired languished panelized used\n",
      "    experimented flourished imitated reunifed factored condensed sheared\n",
      "    unsettled primed dubbed desired ...\n",
      "VBP: verb, present tense, not 3rd person singular\n",
      "    predominate wrap resort sue twist spill cure lengthen brush terminate\n",
      "    appear tend stray glisten obtain comprise detest tease attract\n",
      "    emphasize mold postpone sever return wag ...\n",
      "VBZ: verb, present tense, 3rd person singular\n",
      "    bases reconstructs marks mixes displeases seals carps weaves snatches\n",
      "    slumps stretches authorizes smolders pictures emerges stockpiles\n",
      "    seduces fizzes uses bolsters slaps speaks pleads ...\n",
      "WDT: WH-determiner\n",
      "    that what whatever which whichever\n",
      "WP: WH-pronoun\n",
      "    that what whatever whatsoever which who whom whosoever\n",
      "WP$: WH-pronoun, possessive\n",
      "    whose\n",
      "WRB: Wh-adverb\n",
      "    how however whence whenever where whereby whereever wherein whereof why\n",
      "``: opening quotation mark\n",
      "    ` ``\n"
     ]
    }
   ],
   "source": [
    "# ALL NLTK TAGS\n",
    "nltk.help.upenn_tagset()"
   ]
  },
  {
   "cell_type": "code",
   "execution_count": 22,
   "metadata": {},
   "outputs": [],
   "source": [
    "def keep_groups(text): \n",
    "    auth_lexic=['NN','NNS', 'NNP', 'NNPS', 'RB', 'RBR', 'RBS', 'VB', 'VBD', 'VBG', 'VBN', 'VBP', 'VBZ','JJ', 'JR', 'JJS']\n",
    "    \n",
    "    filtered_word = []\n",
    "    \n",
    "    for text in texts:\n",
    "        words = word_tokenize(text)\n",
    "        w = []\n",
    "        \n",
    "        for word, pos in pos_tag(words):\n",
    "            if pos in auth_lexic:\n",
    "                w.append(word)\n",
    "        filtered_word.append(' '.join(w[:]))\n",
    "    return filtered_word\n",
    "    "
   ]
  },
  {
   "cell_type": "code",
   "execution_count": 23,
   "metadata": {},
   "outputs": [
    {
     "name": "stdout",
     "output_type": "stream",
     "text": [
      "CPU times: user 1min 33s, sys: 314 ms, total: 1min 33s\n",
      "Wall time: 1min 34s\n"
     ]
    }
   ],
   "source": [
    "%%time\n",
    "filtered = keep_groups(texts)"
   ]
  },
  {
   "cell_type": "markdown",
   "metadata": {},
   "source": [
    "Let's try the POS effect on our best algorithm. **Removing meaningless words has increased our algorithm accuracy**."
   ]
  },
  {
   "cell_type": "code",
   "execution_count": 24,
   "metadata": {},
   "outputs": [
    {
     "name": "stdout",
     "output_type": "stream",
     "text": [
      "The SKLEARN implementation of Logistic Regression with POS gives a score of 0.8370.\n",
      "                                \n",
      "CPU times: user 955 ms, sys: 28.7 ms, total: 984 ms\n",
      "Wall time: 985 ms\n"
     ]
    }
   ],
   "source": [
    "%%time\n",
    "\n",
    "pipe_logit.fit(filtered[::2], y[::2])\n",
    "ypred_logit = pipe_logit.predict(filtered[1::2])\n",
    "print('The SKLEARN implementation of Logistic Regression with POS gives a score of %.4f.' % np.mean(y[1::2] == ypred_logit))\n",
    "print('                                ')"
   ]
  },
  {
   "cell_type": "markdown",
   "metadata": {},
   "source": [
    "##  Conclusion\n",
    "\n",
    "\n",
    "\n",
    "- Finally, the **best data transformation is the POS**. POS tagging is one of the most important text analysis tasks used to classify words into their part-of-speech and label them according the tagset which is a collection of tags used for the pos tagging. It allows to our model to improve its accuracy. However, **Stemming technique is also efficient**, even though the model accuracy has not been improved. \n",
    "\n",
    "- However, the accuracy is clearly smaller than the human's sentiment analysis. (For image recognition, some models (CNN) or logistic regression (for MNIST) are better than human analysis). The models we studied do not consider the interactions between words and the complexity of a sentence. The unique information we consider is the frequency of a word on a document. So, the results we got are pretty satisfying because **the models considered are extremely simple. **\n",
    "\n",
    "- Models as **word2vec, Seq2Seq (RNN)** are more complex and consider the posistion of a word in a sentence or have a spacial representation of a word meaning. So, it would be interesting to know how much these models may improve the accuracy. \n",
    "\n"
   ]
  }
 ],
 "metadata": {
  "kernelspec": {
   "display_name": "Py3_P2_ML",
   "language": "python",
   "name": "py3_p2_ml"
  },
  "language_info": {
   "codemirror_mode": {
    "name": "ipython",
    "version": 3
   },
   "file_extension": ".py",
   "mimetype": "text/x-python",
   "name": "python",
   "nbconvert_exporter": "python",
   "pygments_lexer": "ipython3",
   "version": "3.5.2"
  }
 },
 "nbformat": 4,
 "nbformat_minor": 2
}
